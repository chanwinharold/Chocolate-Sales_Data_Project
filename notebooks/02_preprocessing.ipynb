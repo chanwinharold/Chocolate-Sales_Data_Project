{
 "cells": [
  {
   "cell_type": "code",
   "id": "initial_id",
   "metadata": {
    "collapsed": true,
    "ExecuteTime": {
     "end_time": "2025-03-08T16:48:29.713534Z",
     "start_time": "2025-03-08T16:48:29.697939Z"
    }
   },
   "source": [
    "import pandas as pd\n",
    "\n",
    "data = pd.read_csv('../data/Chocolate Sales.csv')\n",
    "data.head()"
   ],
   "outputs": [
    {
     "data": {
      "text/plain": [
       "     Sales Person    Country              Product       Date    Amount  \\\n",
       "0  Jehu Rudeforth         UK      Mint Chip Choco  04-Jan-22   $5,320    \n",
       "1     Van Tuxwell      India        85% Dark Bars  01-Aug-22   $7,896    \n",
       "2    Gigi Bohling      India  Peanut Butter Cubes  07-Jul-22   $4,501    \n",
       "3    Jan Morforth  Australia  Peanut Butter Cubes  27-Apr-22  $12,726    \n",
       "4  Jehu Rudeforth         UK  Peanut Butter Cubes  24-Feb-22  $13,685    \n",
       "\n",
       "   Boxes Shipped  \n",
       "0            180  \n",
       "1             94  \n",
       "2             91  \n",
       "3            342  \n",
       "4            184  "
      ],
      "text/html": [
       "<div>\n",
       "<style scoped>\n",
       "    .dataframe tbody tr th:only-of-type {\n",
       "        vertical-align: middle;\n",
       "    }\n",
       "\n",
       "    .dataframe tbody tr th {\n",
       "        vertical-align: top;\n",
       "    }\n",
       "\n",
       "    .dataframe thead th {\n",
       "        text-align: right;\n",
       "    }\n",
       "</style>\n",
       "<table border=\"1\" class=\"dataframe\">\n",
       "  <thead>\n",
       "    <tr style=\"text-align: right;\">\n",
       "      <th></th>\n",
       "      <th>Sales Person</th>\n",
       "      <th>Country</th>\n",
       "      <th>Product</th>\n",
       "      <th>Date</th>\n",
       "      <th>Amount</th>\n",
       "      <th>Boxes Shipped</th>\n",
       "    </tr>\n",
       "  </thead>\n",
       "  <tbody>\n",
       "    <tr>\n",
       "      <th>0</th>\n",
       "      <td>Jehu Rudeforth</td>\n",
       "      <td>UK</td>\n",
       "      <td>Mint Chip Choco</td>\n",
       "      <td>04-Jan-22</td>\n",
       "      <td>$5,320</td>\n",
       "      <td>180</td>\n",
       "    </tr>\n",
       "    <tr>\n",
       "      <th>1</th>\n",
       "      <td>Van Tuxwell</td>\n",
       "      <td>India</td>\n",
       "      <td>85% Dark Bars</td>\n",
       "      <td>01-Aug-22</td>\n",
       "      <td>$7,896</td>\n",
       "      <td>94</td>\n",
       "    </tr>\n",
       "    <tr>\n",
       "      <th>2</th>\n",
       "      <td>Gigi Bohling</td>\n",
       "      <td>India</td>\n",
       "      <td>Peanut Butter Cubes</td>\n",
       "      <td>07-Jul-22</td>\n",
       "      <td>$4,501</td>\n",
       "      <td>91</td>\n",
       "    </tr>\n",
       "    <tr>\n",
       "      <th>3</th>\n",
       "      <td>Jan Morforth</td>\n",
       "      <td>Australia</td>\n",
       "      <td>Peanut Butter Cubes</td>\n",
       "      <td>27-Apr-22</td>\n",
       "      <td>$12,726</td>\n",
       "      <td>342</td>\n",
       "    </tr>\n",
       "    <tr>\n",
       "      <th>4</th>\n",
       "      <td>Jehu Rudeforth</td>\n",
       "      <td>UK</td>\n",
       "      <td>Peanut Butter Cubes</td>\n",
       "      <td>24-Feb-22</td>\n",
       "      <td>$13,685</td>\n",
       "      <td>184</td>\n",
       "    </tr>\n",
       "  </tbody>\n",
       "</table>\n",
       "</div>"
      ]
     },
     "execution_count": 13,
     "metadata": {},
     "output_type": "execute_result"
    }
   ],
   "execution_count": 13
  },
  {
   "metadata": {},
   "cell_type": "markdown",
   "source": "# Nettoyage et Préparation des Données",
   "id": "4d9eab93d6eb6ae7"
  },
  {
   "metadata": {},
   "cell_type": "markdown",
   "source": "### Standardisation des noms de colonnes",
   "id": "a5b8ae99909d57cf"
  },
  {
   "metadata": {
    "ExecuteTime": {
     "end_time": "2025-03-08T16:48:29.748089Z",
     "start_time": "2025-03-08T16:48:29.745350Z"
    }
   },
   "cell_type": "code",
   "source": [
    "def standardisation(nom_colonne):\n",
    "    nom_colonne = str(nom_colonne).lower().replace(' ', '_')\n",
    "    return str(nom_colonne)\n",
    "\n",
    "for column in data.columns:\n",
    "    data.rename(columns={\n",
    "        column: standardisation(column)\n",
    "    }, inplace=True)"
   ],
   "id": "d0db5e4f02145af",
   "outputs": [],
   "execution_count": 14
  },
  {
   "metadata": {
    "ExecuteTime": {
     "end_time": "2025-03-08T16:48:29.803479Z",
     "start_time": "2025-03-08T16:48:29.794358Z"
    }
   },
   "cell_type": "code",
   "source": "data.head()",
   "id": "24f7f7410cc4a58",
   "outputs": [
    {
     "data": {
      "text/plain": [
       "     sales_person    country              product       date    amount  \\\n",
       "0  Jehu Rudeforth         UK      Mint Chip Choco  04-Jan-22   $5,320    \n",
       "1     Van Tuxwell      India        85% Dark Bars  01-Aug-22   $7,896    \n",
       "2    Gigi Bohling      India  Peanut Butter Cubes  07-Jul-22   $4,501    \n",
       "3    Jan Morforth  Australia  Peanut Butter Cubes  27-Apr-22  $12,726    \n",
       "4  Jehu Rudeforth         UK  Peanut Butter Cubes  24-Feb-22  $13,685    \n",
       "\n",
       "   boxes_shipped  \n",
       "0            180  \n",
       "1             94  \n",
       "2             91  \n",
       "3            342  \n",
       "4            184  "
      ],
      "text/html": [
       "<div>\n",
       "<style scoped>\n",
       "    .dataframe tbody tr th:only-of-type {\n",
       "        vertical-align: middle;\n",
       "    }\n",
       "\n",
       "    .dataframe tbody tr th {\n",
       "        vertical-align: top;\n",
       "    }\n",
       "\n",
       "    .dataframe thead th {\n",
       "        text-align: right;\n",
       "    }\n",
       "</style>\n",
       "<table border=\"1\" class=\"dataframe\">\n",
       "  <thead>\n",
       "    <tr style=\"text-align: right;\">\n",
       "      <th></th>\n",
       "      <th>sales_person</th>\n",
       "      <th>country</th>\n",
       "      <th>product</th>\n",
       "      <th>date</th>\n",
       "      <th>amount</th>\n",
       "      <th>boxes_shipped</th>\n",
       "    </tr>\n",
       "  </thead>\n",
       "  <tbody>\n",
       "    <tr>\n",
       "      <th>0</th>\n",
       "      <td>Jehu Rudeforth</td>\n",
       "      <td>UK</td>\n",
       "      <td>Mint Chip Choco</td>\n",
       "      <td>04-Jan-22</td>\n",
       "      <td>$5,320</td>\n",
       "      <td>180</td>\n",
       "    </tr>\n",
       "    <tr>\n",
       "      <th>1</th>\n",
       "      <td>Van Tuxwell</td>\n",
       "      <td>India</td>\n",
       "      <td>85% Dark Bars</td>\n",
       "      <td>01-Aug-22</td>\n",
       "      <td>$7,896</td>\n",
       "      <td>94</td>\n",
       "    </tr>\n",
       "    <tr>\n",
       "      <th>2</th>\n",
       "      <td>Gigi Bohling</td>\n",
       "      <td>India</td>\n",
       "      <td>Peanut Butter Cubes</td>\n",
       "      <td>07-Jul-22</td>\n",
       "      <td>$4,501</td>\n",
       "      <td>91</td>\n",
       "    </tr>\n",
       "    <tr>\n",
       "      <th>3</th>\n",
       "      <td>Jan Morforth</td>\n",
       "      <td>Australia</td>\n",
       "      <td>Peanut Butter Cubes</td>\n",
       "      <td>27-Apr-22</td>\n",
       "      <td>$12,726</td>\n",
       "      <td>342</td>\n",
       "    </tr>\n",
       "    <tr>\n",
       "      <th>4</th>\n",
       "      <td>Jehu Rudeforth</td>\n",
       "      <td>UK</td>\n",
       "      <td>Peanut Butter Cubes</td>\n",
       "      <td>24-Feb-22</td>\n",
       "      <td>$13,685</td>\n",
       "      <td>184</td>\n",
       "    </tr>\n",
       "  </tbody>\n",
       "</table>\n",
       "</div>"
      ]
     },
     "execution_count": 15,
     "metadata": {},
     "output_type": "execute_result"
    }
   ],
   "execution_count": 15
  },
  {
   "metadata": {},
   "cell_type": "markdown",
   "source": "### Formatage de la colonne ```date```",
   "id": "b64cd23c20cedb6f"
  },
  {
   "metadata": {
    "ExecuteTime": {
     "end_time": "2025-03-08T16:48:29.873540Z",
     "start_time": "2025-03-08T16:48:29.866687Z"
    }
   },
   "cell_type": "code",
   "source": "data['date'] = pd.to_datetime(data['date'], format='%d-%b-%y', errors='coerce')",
   "id": "6630156f07cd3a84",
   "outputs": [],
   "execution_count": 16
  },
  {
   "metadata": {
    "ExecuteTime": {
     "end_time": "2025-03-08T16:48:29.930356Z",
     "start_time": "2025-03-08T16:48:29.922075Z"
    }
   },
   "cell_type": "code",
   "source": "data.head()",
   "id": "212b2af234544d08",
   "outputs": [
    {
     "data": {
      "text/plain": [
       "     sales_person    country              product       date    amount  \\\n",
       "0  Jehu Rudeforth         UK      Mint Chip Choco 2022-01-04   $5,320    \n",
       "1     Van Tuxwell      India        85% Dark Bars 2022-08-01   $7,896    \n",
       "2    Gigi Bohling      India  Peanut Butter Cubes 2022-07-07   $4,501    \n",
       "3    Jan Morforth  Australia  Peanut Butter Cubes 2022-04-27  $12,726    \n",
       "4  Jehu Rudeforth         UK  Peanut Butter Cubes 2022-02-24  $13,685    \n",
       "\n",
       "   boxes_shipped  \n",
       "0            180  \n",
       "1             94  \n",
       "2             91  \n",
       "3            342  \n",
       "4            184  "
      ],
      "text/html": [
       "<div>\n",
       "<style scoped>\n",
       "    .dataframe tbody tr th:only-of-type {\n",
       "        vertical-align: middle;\n",
       "    }\n",
       "\n",
       "    .dataframe tbody tr th {\n",
       "        vertical-align: top;\n",
       "    }\n",
       "\n",
       "    .dataframe thead th {\n",
       "        text-align: right;\n",
       "    }\n",
       "</style>\n",
       "<table border=\"1\" class=\"dataframe\">\n",
       "  <thead>\n",
       "    <tr style=\"text-align: right;\">\n",
       "      <th></th>\n",
       "      <th>sales_person</th>\n",
       "      <th>country</th>\n",
       "      <th>product</th>\n",
       "      <th>date</th>\n",
       "      <th>amount</th>\n",
       "      <th>boxes_shipped</th>\n",
       "    </tr>\n",
       "  </thead>\n",
       "  <tbody>\n",
       "    <tr>\n",
       "      <th>0</th>\n",
       "      <td>Jehu Rudeforth</td>\n",
       "      <td>UK</td>\n",
       "      <td>Mint Chip Choco</td>\n",
       "      <td>2022-01-04</td>\n",
       "      <td>$5,320</td>\n",
       "      <td>180</td>\n",
       "    </tr>\n",
       "    <tr>\n",
       "      <th>1</th>\n",
       "      <td>Van Tuxwell</td>\n",
       "      <td>India</td>\n",
       "      <td>85% Dark Bars</td>\n",
       "      <td>2022-08-01</td>\n",
       "      <td>$7,896</td>\n",
       "      <td>94</td>\n",
       "    </tr>\n",
       "    <tr>\n",
       "      <th>2</th>\n",
       "      <td>Gigi Bohling</td>\n",
       "      <td>India</td>\n",
       "      <td>Peanut Butter Cubes</td>\n",
       "      <td>2022-07-07</td>\n",
       "      <td>$4,501</td>\n",
       "      <td>91</td>\n",
       "    </tr>\n",
       "    <tr>\n",
       "      <th>3</th>\n",
       "      <td>Jan Morforth</td>\n",
       "      <td>Australia</td>\n",
       "      <td>Peanut Butter Cubes</td>\n",
       "      <td>2022-04-27</td>\n",
       "      <td>$12,726</td>\n",
       "      <td>342</td>\n",
       "    </tr>\n",
       "    <tr>\n",
       "      <th>4</th>\n",
       "      <td>Jehu Rudeforth</td>\n",
       "      <td>UK</td>\n",
       "      <td>Peanut Butter Cubes</td>\n",
       "      <td>2022-02-24</td>\n",
       "      <td>$13,685</td>\n",
       "      <td>184</td>\n",
       "    </tr>\n",
       "  </tbody>\n",
       "</table>\n",
       "</div>"
      ]
     },
     "execution_count": 17,
     "metadata": {},
     "output_type": "execute_result"
    }
   ],
   "execution_count": 17
  },
  {
   "metadata": {},
   "cell_type": "markdown",
   "source": "### Formatage de la colonne ```amount```",
   "id": "92eb33213c1903ee"
  },
  {
   "metadata": {
    "ExecuteTime": {
     "end_time": "2025-03-08T16:48:29.997075Z",
     "start_time": "2025-03-08T16:48:29.992884Z"
    }
   },
   "cell_type": "code",
   "source": [
    "data['amount'] = data['amount'].str.replace('$','').str.replace(',','')\n",
    "data['amount'] = pd.to_numeric(data['amount'], errors='coerce')"
   ],
   "id": "263c50bcc3433014",
   "outputs": [],
   "execution_count": 18
  },
  {
   "metadata": {
    "ExecuteTime": {
     "end_time": "2025-03-08T16:48:30.030226Z",
     "start_time": "2025-03-08T16:48:30.023569Z"
    }
   },
   "cell_type": "code",
   "source": "data.head()",
   "id": "e0c10ae651f7dede",
   "outputs": [
    {
     "data": {
      "text/plain": [
       "     sales_person    country              product       date  amount  \\\n",
       "0  Jehu Rudeforth         UK      Mint Chip Choco 2022-01-04    5320   \n",
       "1     Van Tuxwell      India        85% Dark Bars 2022-08-01    7896   \n",
       "2    Gigi Bohling      India  Peanut Butter Cubes 2022-07-07    4501   \n",
       "3    Jan Morforth  Australia  Peanut Butter Cubes 2022-04-27   12726   \n",
       "4  Jehu Rudeforth         UK  Peanut Butter Cubes 2022-02-24   13685   \n",
       "\n",
       "   boxes_shipped  \n",
       "0            180  \n",
       "1             94  \n",
       "2             91  \n",
       "3            342  \n",
       "4            184  "
      ],
      "text/html": [
       "<div>\n",
       "<style scoped>\n",
       "    .dataframe tbody tr th:only-of-type {\n",
       "        vertical-align: middle;\n",
       "    }\n",
       "\n",
       "    .dataframe tbody tr th {\n",
       "        vertical-align: top;\n",
       "    }\n",
       "\n",
       "    .dataframe thead th {\n",
       "        text-align: right;\n",
       "    }\n",
       "</style>\n",
       "<table border=\"1\" class=\"dataframe\">\n",
       "  <thead>\n",
       "    <tr style=\"text-align: right;\">\n",
       "      <th></th>\n",
       "      <th>sales_person</th>\n",
       "      <th>country</th>\n",
       "      <th>product</th>\n",
       "      <th>date</th>\n",
       "      <th>amount</th>\n",
       "      <th>boxes_shipped</th>\n",
       "    </tr>\n",
       "  </thead>\n",
       "  <tbody>\n",
       "    <tr>\n",
       "      <th>0</th>\n",
       "      <td>Jehu Rudeforth</td>\n",
       "      <td>UK</td>\n",
       "      <td>Mint Chip Choco</td>\n",
       "      <td>2022-01-04</td>\n",
       "      <td>5320</td>\n",
       "      <td>180</td>\n",
       "    </tr>\n",
       "    <tr>\n",
       "      <th>1</th>\n",
       "      <td>Van Tuxwell</td>\n",
       "      <td>India</td>\n",
       "      <td>85% Dark Bars</td>\n",
       "      <td>2022-08-01</td>\n",
       "      <td>7896</td>\n",
       "      <td>94</td>\n",
       "    </tr>\n",
       "    <tr>\n",
       "      <th>2</th>\n",
       "      <td>Gigi Bohling</td>\n",
       "      <td>India</td>\n",
       "      <td>Peanut Butter Cubes</td>\n",
       "      <td>2022-07-07</td>\n",
       "      <td>4501</td>\n",
       "      <td>91</td>\n",
       "    </tr>\n",
       "    <tr>\n",
       "      <th>3</th>\n",
       "      <td>Jan Morforth</td>\n",
       "      <td>Australia</td>\n",
       "      <td>Peanut Butter Cubes</td>\n",
       "      <td>2022-04-27</td>\n",
       "      <td>12726</td>\n",
       "      <td>342</td>\n",
       "    </tr>\n",
       "    <tr>\n",
       "      <th>4</th>\n",
       "      <td>Jehu Rudeforth</td>\n",
       "      <td>UK</td>\n",
       "      <td>Peanut Butter Cubes</td>\n",
       "      <td>2022-02-24</td>\n",
       "      <td>13685</td>\n",
       "      <td>184</td>\n",
       "    </tr>\n",
       "  </tbody>\n",
       "</table>\n",
       "</div>"
      ]
     },
     "execution_count": 19,
     "metadata": {},
     "output_type": "execute_result"
    }
   ],
   "execution_count": 19
  },
  {
   "metadata": {},
   "cell_type": "markdown",
   "source": "### Vérification des Outliers",
   "id": "79f1af2b54ba166"
  },
  {
   "metadata": {
    "ExecuteTime": {
     "end_time": "2025-03-08T16:48:30.096800Z",
     "start_time": "2025-03-08T16:48:30.088298Z"
    }
   },
   "cell_type": "code",
   "source": "data.describe()",
   "id": "829a7c972b0c94ea",
   "outputs": [
    {
     "data": {
      "text/plain": [
       "                                date        amount  boxes_shipped\n",
       "count                           1094   1094.000000    1094.000000\n",
       "mean   2022-05-03 09:04:56.160877568   5652.308044     161.797989\n",
       "min              2022-01-03 00:00:00      7.000000       1.000000\n",
       "25%              2022-03-02 00:00:00   2390.500000      70.000000\n",
       "50%              2022-05-11 00:00:00   4868.500000     135.000000\n",
       "75%              2022-07-04 00:00:00   8027.250000     228.750000\n",
       "max              2022-08-31 00:00:00  22050.000000     709.000000\n",
       "std                              NaN   4102.442014     121.544145"
      ],
      "text/html": [
       "<div>\n",
       "<style scoped>\n",
       "    .dataframe tbody tr th:only-of-type {\n",
       "        vertical-align: middle;\n",
       "    }\n",
       "\n",
       "    .dataframe tbody tr th {\n",
       "        vertical-align: top;\n",
       "    }\n",
       "\n",
       "    .dataframe thead th {\n",
       "        text-align: right;\n",
       "    }\n",
       "</style>\n",
       "<table border=\"1\" class=\"dataframe\">\n",
       "  <thead>\n",
       "    <tr style=\"text-align: right;\">\n",
       "      <th></th>\n",
       "      <th>date</th>\n",
       "      <th>amount</th>\n",
       "      <th>boxes_shipped</th>\n",
       "    </tr>\n",
       "  </thead>\n",
       "  <tbody>\n",
       "    <tr>\n",
       "      <th>count</th>\n",
       "      <td>1094</td>\n",
       "      <td>1094.000000</td>\n",
       "      <td>1094.000000</td>\n",
       "    </tr>\n",
       "    <tr>\n",
       "      <th>mean</th>\n",
       "      <td>2022-05-03 09:04:56.160877568</td>\n",
       "      <td>5652.308044</td>\n",
       "      <td>161.797989</td>\n",
       "    </tr>\n",
       "    <tr>\n",
       "      <th>min</th>\n",
       "      <td>2022-01-03 00:00:00</td>\n",
       "      <td>7.000000</td>\n",
       "      <td>1.000000</td>\n",
       "    </tr>\n",
       "    <tr>\n",
       "      <th>25%</th>\n",
       "      <td>2022-03-02 00:00:00</td>\n",
       "      <td>2390.500000</td>\n",
       "      <td>70.000000</td>\n",
       "    </tr>\n",
       "    <tr>\n",
       "      <th>50%</th>\n",
       "      <td>2022-05-11 00:00:00</td>\n",
       "      <td>4868.500000</td>\n",
       "      <td>135.000000</td>\n",
       "    </tr>\n",
       "    <tr>\n",
       "      <th>75%</th>\n",
       "      <td>2022-07-04 00:00:00</td>\n",
       "      <td>8027.250000</td>\n",
       "      <td>228.750000</td>\n",
       "    </tr>\n",
       "    <tr>\n",
       "      <th>max</th>\n",
       "      <td>2022-08-31 00:00:00</td>\n",
       "      <td>22050.000000</td>\n",
       "      <td>709.000000</td>\n",
       "    </tr>\n",
       "    <tr>\n",
       "      <th>std</th>\n",
       "      <td>NaN</td>\n",
       "      <td>4102.442014</td>\n",
       "      <td>121.544145</td>\n",
       "    </tr>\n",
       "  </tbody>\n",
       "</table>\n",
       "</div>"
      ]
     },
     "execution_count": 20,
     "metadata": {},
     "output_type": "execute_result"
    }
   ],
   "execution_count": 20
  },
  {
   "metadata": {},
   "cell_type": "markdown",
   "source": "Aucun Outlier détecté",
   "id": "57f1df9978c56ea0"
  },
  {
   "metadata": {},
   "cell_type": "markdown",
   "source": "### Vérification du type des colonnes",
   "id": "6e6b15be204ad9d5"
  },
  {
   "metadata": {
    "ExecuteTime": {
     "end_time": "2025-03-08T16:48:30.157323Z",
     "start_time": "2025-03-08T16:48:30.152876Z"
    }
   },
   "cell_type": "code",
   "source": "data.dtypes",
   "id": "5ef7f723fd266125",
   "outputs": [
    {
     "data": {
      "text/plain": [
       "sales_person             object\n",
       "country                  object\n",
       "product                  object\n",
       "date             datetime64[ns]\n",
       "amount                    int64\n",
       "boxes_shipped             int64\n",
       "dtype: object"
      ]
     },
     "execution_count": 21,
     "metadata": {},
     "output_type": "execute_result"
    }
   ],
   "execution_count": 21
  },
  {
   "metadata": {},
   "cell_type": "markdown",
   "source": "Aucun problème à ce niveau",
   "id": "3e2492b0df5a7b52"
  },
  {
   "metadata": {},
   "cell_type": "markdown",
   "source": "### Vérification des doublons",
   "id": "4a9b16ac35f81cf"
  },
  {
   "metadata": {
    "ExecuteTime": {
     "end_time": "2025-03-08T16:48:30.240129Z",
     "start_time": "2025-03-08T16:48:30.230562Z"
    }
   },
   "cell_type": "code",
   "source": "data.loc[data.duplicated(subset=['sales_person', 'country', 'product', 'date', 'amount', 'boxes_shipped'], keep=False), ]",
   "id": "350220311a73bb9c",
   "outputs": [
    {
     "data": {
      "text/plain": [
       "Empty DataFrame\n",
       "Columns: [sales_person, country, product, date, amount, boxes_shipped]\n",
       "Index: []"
      ],
      "text/html": [
       "<div>\n",
       "<style scoped>\n",
       "    .dataframe tbody tr th:only-of-type {\n",
       "        vertical-align: middle;\n",
       "    }\n",
       "\n",
       "    .dataframe tbody tr th {\n",
       "        vertical-align: top;\n",
       "    }\n",
       "\n",
       "    .dataframe thead th {\n",
       "        text-align: right;\n",
       "    }\n",
       "</style>\n",
       "<table border=\"1\" class=\"dataframe\">\n",
       "  <thead>\n",
       "    <tr style=\"text-align: right;\">\n",
       "      <th></th>\n",
       "      <th>sales_person</th>\n",
       "      <th>country</th>\n",
       "      <th>product</th>\n",
       "      <th>date</th>\n",
       "      <th>amount</th>\n",
       "      <th>boxes_shipped</th>\n",
       "    </tr>\n",
       "  </thead>\n",
       "  <tbody>\n",
       "  </tbody>\n",
       "</table>\n",
       "</div>"
      ]
     },
     "execution_count": 22,
     "metadata": {},
     "output_type": "execute_result"
    }
   ],
   "execution_count": 22
  },
  {
   "metadata": {},
   "cell_type": "markdown",
   "source": "Aucun doublon détecté",
   "id": "99f5dd154ef2d10c"
  },
  {
   "metadata": {},
   "cell_type": "markdown",
   "source": "### Vérification des valeurs manquantes",
   "id": "4541a35ae01972cd"
  },
  {
   "metadata": {
    "ExecuteTime": {
     "end_time": "2025-03-08T16:48:30.383871Z",
     "start_time": "2025-03-08T16:48:30.378546Z"
    }
   },
   "cell_type": "code",
   "source": "data.isnull().sum()",
   "id": "64b7ff9fb03409d0",
   "outputs": [
    {
     "data": {
      "text/plain": [
       "sales_person     0\n",
       "country          0\n",
       "product          0\n",
       "date             0\n",
       "amount           0\n",
       "boxes_shipped    0\n",
       "dtype: int64"
      ]
     },
     "execution_count": 23,
     "metadata": {},
     "output_type": "execute_result"
    }
   ],
   "execution_count": 23
  },
  {
   "metadata": {},
   "cell_type": "markdown",
   "source": "Aucune valeur manquante !",
   "id": "285e40256da3eb50"
  },
  {
   "metadata": {},
   "cell_type": "markdown",
   "source": "### Sauvegarde du dataset nettoyé",
   "id": "ac55de1b19a63fc6"
  },
  {
   "metadata": {
    "ExecuteTime": {
     "end_time": "2025-03-08T16:48:30.456299Z",
     "start_time": "2025-03-08T16:48:30.448850Z"
    }
   },
   "cell_type": "code",
   "source": "data.to_csv('../data/data_cleaned.csv', index=False)",
   "id": "28d160eed214766b",
   "outputs": [],
   "execution_count": 24
  }
 ],
 "metadata": {
  "kernelspec": {
   "display_name": "Python 3",
   "language": "python",
   "name": "python3"
  },
  "language_info": {
   "codemirror_mode": {
    "name": "ipython",
    "version": 2
   },
   "file_extension": ".py",
   "mimetype": "text/x-python",
   "name": "python",
   "nbconvert_exporter": "python",
   "pygments_lexer": "ipython2",
   "version": "2.7.6"
  }
 },
 "nbformat": 4,
 "nbformat_minor": 5
}
